{
 "cells": [
  {
   "cell_type": "markdown",
   "metadata": {},
   "source": [
    "# Python Insights - Analisando Dados com Python\n",
    "\n",
    "### Case - Cancelamento de Clientes\n",
    "\n",
    "Você foi contratado por uma empresa com mais de 800 mil clientes para um projeto de Dados. Recentemente a empresa percebeu que da sua base total de clientes, a maioria são clientes inativos, ou seja, que já cancelaram o serviço.\n",
    "\n",
    "Precisando melhorar seus resultados ela quer conseguir entender os principais motivos desses cancelamentos e quais as ações mais eficientes para reduzir esse número.\n"
   ]
  },
  {
   "cell_type": "code",
   "execution_count": null,
   "metadata": {},
   "outputs": [],
   "source": [
    "#passo a passo do projeto\n",
    "#passo 1: importa base de dados\n",
    "#passo 2: visualizar base de dados\n",
    "#passo 3: corrigir problemas na base de dados\n",
    "#passo 4: analise inicial de cancelamentos\n",
    "#passo 5: analise das causa e possiveis ajustes"
   ]
  },
  {
   "cell_type": "code",
   "execution_count": null,
   "metadata": {},
   "outputs": [],
   "source": [
    "#passo 1: importar base de dados\n",
    "import pandas as pd"
   ]
  },
  {
   "cell_type": "code",
   "execution_count": null,
   "metadata": {},
   "outputs": [],
   "source": [
    "#passo 2: visualizar base de dados\n",
    "tabela = pd.read_excel(\"produtos_ficticios.xlsx\")\n",
    "display(tabela)\n"
   ]
  },
  {
   "cell_type": "code",
   "execution_count": null,
   "metadata": {},
   "outputs": [],
   "source": [
    "#mostra todas as infos importantes\n",
    "display(tabela.info())"
   ]
  },
  {
   "cell_type": "code",
   "execution_count": null,
   "metadata": {},
   "outputs": [],
   "source": [
    "#passo 3: corrigir problemas na base de dados\n",
    "#removendo a coluna inutil customerID\n",
    "tabela = tabela.drop( columns = \"CustomerID\")\n",
    "display(tabela)\n",
    "#removendo todas as linhas que contem valores nulos NAN\n",
    "tabela = tabela.dropna()\n"
   ]
  },
  {
   "cell_type": "code",
   "execution_count": null,
   "metadata": {},
   "outputs": [],
   "source": [
    "#passo 4: analise inicial de cancelamentos\n",
    "#quantas pessoas cancelaram e quantas nao cancelaram \n",
    "display(tabela[\"cancelou\"].value_counts())\n",
    "#em porcentagem                                        numero de casa decimais          \n",
    "display(tabela[\"cancelou\"].value_counts(normalize= True).map(\"{:.2%}\".format))"
   ]
  },
  {
   "cell_type": "code",
   "execution_count": null,
   "metadata": {},
   "outputs": [],
   "source": [
    "#passo 5: analise das causa e possiveis ajustes\n",
    "#instalar a labery para tabelas\n",
    "#!pip install plotly\n",
    "import plotly.express as px\n",
    "\n",
    "for colunas in tabela.columns:\n",
    "    #criar o grafico\n",
    "    grafico = px.histogram(tabela, x=colunas, color = \"cancelou\")\n",
    "    #mostrar o grafico\n",
    "    grafico.show()"
   ]
  },
  {
   "cell_type": "code",
   "execution_count": null,
   "metadata": {},
   "outputs": [],
   "source": [
    "# com os graficos a gente consegue descobrir muita coisa:\n",
    "# dias atraso acima de 20 dias, 100% cancela\n",
    "# ligações call center acima de 5 todo mundo cancela\n",
    "# praticamente todos os contratos mensais cancelaram (ou todos)\n",
    "\n",
    "tabela = tabela[tabela['duracao_contrato']!=\"Monthly\"]\n",
    "tabela = tabela[tabela['dias_atraso']<= 20]\n",
    "tabela = tabela[tabela['ligacoes_callcenter']<=4]\n",
    "display(tabela[\"cancelou\"].value_counts(normalize= True).map(\"{:.2%}\".format))\n"
   ]
  }
 ],
 "metadata": {
  "kernelspec": {
   "display_name": "base",
   "language": "python",
   "name": "python3"
  },
  "language_info": {
   "codemirror_mode": {
    "name": "ipython",
    "version": 3
   },
   "file_extension": ".py",
   "mimetype": "text/x-python",
   "name": "python",
   "nbconvert_exporter": "python",
   "pygments_lexer": "ipython3",
   "version": "3.11.5"
  },
  "orig_nbformat": 4
 },
 "nbformat": 4,
 "nbformat_minor": 2
}
